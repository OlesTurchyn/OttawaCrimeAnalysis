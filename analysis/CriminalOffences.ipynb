{
 "cells": [
  {
   "cell_type": "markdown",
   "metadata": {},
   "source": [
    "# Ottawa Bike Theft Analysis\n",
    "#### Exploring bike thefts between 2015-2020\n",
    "\n",
    "Dataset [link](https://open.ottawa.ca/datasets/ottawa::criminal-offences-/about)"
   ]
  },
  {
   "cell_type": "code",
   "execution_count": 2,
   "metadata": {},
   "outputs": [],
   "source": [
    "import geopandas as gpd\n",
    "import pandas as pd\n",
    "import folium\n",
    "from folium import Map\n",
    "from folium.plugins import HeatMap\n",
    "import matplotlib.pyplot as plt"
   ]
  },
  {
   "cell_type": "code",
   "execution_count": 8,
   "metadata": {},
   "outputs": [
    {
     "name": "stderr",
     "output_type": "stream",
     "text": [
      "Skipping field ReportTime: unsupported OGR type: 10\n",
      "Skipping field Occur_Time: unsupported OGR type: 10\n"
     ]
    }
   ],
   "source": [
    "geojson_file = 'datasets/Criminal_Offences.geojson'\n",
    "data = gpd.read_file(geojson_file)"
   ]
  },
  {
   "cell_type": "code",
   "execution_count": 6,
   "metadata": {},
   "outputs": [
    {
     "name": "stdout",
     "output_type": "stream",
     "text": [
      "Common Offence Types:\n",
      " Sale\n",
      "Arson\n",
      "Assaults\n",
      "Attempting The Commission Of A Capital Crime\n",
      "Break and Enter\n",
      "Commodification Of Sexual Activity\n",
      "Dangerous Operation\n",
      "Distribution\n",
      "Failure or Refusal to Comply with Demand\n",
      "Failure to Stop after Accident\n",
      "Flight From Peace Officer\n",
      "Fraud\n",
      "Gaming and Betting\n",
      "Mischief\n",
      "Offensive Weapons\n",
      "Operation while Impaired/Low Blood Drug Concentration Violations\n",
      "Operation while Prohibited\n",
      "Other Cannabis Violations\n",
      "Other Criminal Code\n",
      "Other Violations Involving Violence Or The Threat Of Violence\n",
      "Possession\n",
      "Possession / Trafficking Stolen Goods\n",
      "Production\n",
      "Prostitution\n",
      "Sexual Violations\n",
      "Theft $5000 and Under\n",
      "Theft $5000 and Under (2142/2140)\n",
      "Theft - Motor Vehicle\n",
      "Theft Over $5000\n",
      "Theft Over $5000 (2132/2130)\n",
      "Trafficking\n",
      "Violations Causing Death\n",
      "Violations Resulting In The Deprivation Of Freedom\n"
     ]
    }
   ],
   "source": [
    "import json\n",
    "import re\n",
    "\n",
    "# Load the GeoJSON file\n",
    "with open(\"datasets/Criminal_Offences.geojson\", \"r\") as file:\n",
    "    data = json.load(file)\n",
    "\n",
    "# Extract unique offences from the 'PrimViolat' attribute\n",
    "unique_offences = set()\n",
    "for feature in data['features']:\n",
    "    offence = feature['properties']['PrimViolat']\n",
    "    # Remove any code at the end using regex\n",
    "    cleaned_offence = re.sub(r'\\s\\(\\d+\\)$', '', offence)\n",
    "    unique_offences.add(cleaned_offence)\n",
    "\n",
    "# Convert the set to a sorted list for better readability\n",
    "common_offences = sorted(unique_offences)\n",
    "\n",
    "# Print the common offences\n",
    "print(\"Common Offence Types:\")\n",
    "for offence in common_offences:\n",
    "    print(offence)\n"
   ]
  },
  {
   "cell_type": "code",
   "execution_count": 25,
   "metadata": {},
   "outputs": [
    {
     "name": "stderr",
     "output_type": "stream",
     "text": [
      "C:\\Users\\Oles\\AppData\\Local\\Temp\\ipykernel_34948\\1383553721.py:33: UserWarning: The `max_val` parameter is no longer necessary. The largest intensity is calculated automatically.\n",
      "  HeatMap(\n"
     ]
    },
    {
     "name": "stdout",
     "output_type": "stream",
     "text": [
      "Heatmaps for the specified offences have been saved as separate files.\n"
     ]
    }
   ],
   "source": [
    "import folium\n",
    "import json\n",
    "from folium.plugins import HeatMap\n",
    "\n",
    "# Load GeoJSON data\n",
    "with open('datasets/Criminal_Offences.geojson', 'r') as f:\n",
    "    geojson_data = json.load(f)\n",
    "\n",
    "# Mapping of specific offences to filter\n",
    "offences_to_filter = [\n",
    "    \"Arson\", \"Assaults\", \"Break and Enter\", \"Possession\", \n",
    "    \"Theft - Motor Vehicle\", \"Sexual Violations\", \"Failure to Stop after Accident\", \"Theft Over $5000\"\n",
    "]\n",
    "\n",
    "# Create a dictionary to store coordinates for each offence\n",
    "crime_coordinates = {offence: [] for offence in offences_to_filter}\n",
    "\n",
    "# Step 1: Filter features by each of the specified offences and extract coordinates\n",
    "for feature in geojson_data['features']:\n",
    "    crime_type = feature['properties']['PrimViolat']\n",
    "    \n",
    "    if crime_type in offences_to_filter:\n",
    "        coordinates = feature['geometry']['coordinates']\n",
    "        crime_coordinates[crime_type].append([coordinates[1], coordinates[0]])  # [lat, lon]\n",
    "\n",
    "# Step 2: Create separate heatmaps for each offence and save them in individual files\n",
    "for offence, coords in crime_coordinates.items():\n",
    "    # Create a new map for each offence\n",
    "    offence_map = folium.Map(location=[45.4215, -75.6972], zoom_start=12) \n",
    "    \n",
    "    # Add the heatmap layer for this offence if there are any coordinates\n",
    "    if coords:\n",
    "        HeatMap(\n",
    "            coords,\n",
    "            min_opacity=0.8,  # Adjust opacity for low-intensity areas\n",
    "            max_zoom=18,  # Set maximum zoom level\n",
    "            radius=4,  # Increase radius to merge nearby points\n",
    "            blur=8,  # Adjust blur to reduce harshness of heatmap\n",
    "            max_val=1.0  # Set max intensity value\n",
    "        ).add_to(offence_map)\n",
    "        \n",
    "    # Save the heatmap for this offence as a separate HTML file\n",
    "    offence_map.save(f'{offence}_heatmap.html')\n",
    "\n",
    "print(\"Heatmaps for the specified offences have been saved as separate files.\")\n"
   ]
  }
 ],
 "metadata": {
  "kernelspec": {
   "display_name": "Python 3",
   "language": "python",
   "name": "python3"
  },
  "language_info": {
   "codemirror_mode": {
    "name": "ipython",
    "version": 3
   },
   "file_extension": ".py",
   "mimetype": "text/x-python",
   "name": "python",
   "nbconvert_exporter": "python",
   "pygments_lexer": "ipython3",
   "version": "3.11.9"
  }
 },
 "nbformat": 4,
 "nbformat_minor": 2
}
