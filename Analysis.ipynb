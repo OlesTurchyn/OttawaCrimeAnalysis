{
 "cells": [
  {
   "cell_type": "markdown",
   "metadata": {},
   "source": [
    "# Ottawa Shootings Analysis\n",
    "\n",
    "#### Exploring shootings and firearm related charges in Ottawa between 2016-2022"
   ]
  },
  {
   "cell_type": "markdown",
   "metadata": {},
   "source": [
    "# Import libraries\n",
    "import geopandas as gpd\n",
    "import pandas as pd\n",
    "import pydeck as pdk\n",
    "from google.colab import files\n",
    "\n",
    "# Assume the file name is `shootings_data.geojson`\n",
    "file_name = '/content/Shootings_and_Firearm_Discharges.geojson'\n",
    "\n",
    "# Load the GeoJSON file using GeoPandas\n",
    "geo_data = gpd.read_file(file_name)\n",
    "\n",
    "# Convert GeoPandas GeoDataFrame to Pandas DataFrame\n",
    "# Extract coordinates and other relevant fields\n",
    "geo_data[\"longitude\"] = geo_data.geometry.x\n",
    "geo_data[\"latitude\"] = geo_data.geometry.y\n",
    "df = geo_data.drop(columns=[\"geometry\"])\n",
    "\n",
    "# Display the first few rows of the DataFrame\n",
    "print(df.head())\n",
    "\n",
    "# Create a HeatmapLayer\n",
    "heatmap_layer = pdk.Layer(\n",
    "    \"HeatmapLayer\",\n",
    "    data=df,\n",
    "    get_position=\"[longitude, latitude]\",\n",
    "    get_weight=\"Year\",  # Example: Use the 'Year' column for weighting\n",
    "    radiusPixels=50,    # Adjust the heatmap radius\n",
    ")\n",
    "\n",
    "# Define the view state (centered on the data's mean latitude/longitude)\n",
    "view_state = pdk.ViewState(\n",
    "    latitude=df[\"latitude\"].mean(),\n",
    "    longitude=df[\"longitude\"].mean(),\n",
    "    zoom=10,\n",
    "    pitch=45,\n",
    ")\n",
    "\n",
    "# Create the Deck instance\n",
    "r = pdk.Deck(layers=[heatmap_layer], initial_view_state=view_state)"
   ]
  }
 ],
 "metadata": {
  "language_info": {
   "name": "python"
  },
  "orig_nbformat": 4
 },
 "nbformat": 4,
 "nbformat_minor": 2
}
